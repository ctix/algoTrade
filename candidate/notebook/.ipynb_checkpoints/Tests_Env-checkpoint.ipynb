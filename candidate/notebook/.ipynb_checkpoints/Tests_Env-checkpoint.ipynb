{
 "cells": [
  {
   "cell_type": "markdown",
   "metadata": {},
   "source": [
    "# 确立测试环境\n",
    "## 1. 建立 Datum 文件夹\n",
    "       ### 1.1 文件夹包含 vipdoc 下的选出的  lc1 ,lc5,day\n",
    "       > ** build table in sqlite, : recent statistics **\n",
    "           * stockcode, date, cci ,max_min_vol,trend regression, recent_support, pressure \n",
    "       ### 1.2  包含抓取的1分钟数据，多个股票的混合数据"
   ]
  },
  {
   "cell_type": "code",
   "execution_count": 1,
   "metadata": {
    "collapsed": false
   },
   "outputs": [],
   "source": [
    "import sys\n",
    "sys.path.append(\"..\")\n",
    "import stockdata \n",
    "import pandas as pd\n",
    "import numpy as np\n",
    "dat_path = \"../datum/\"  #where hold the test used data set"
   ]
  },
  {
   "cell_type": "code",
   "execution_count": 2,
   "metadata": {
    "collapsed": false
   },
   "outputs": [],
   "source": [
    "SimuDatumHq = pd.DataFrame()\n",
    "MarketDatum = pd.DataFrame()\n",
    "filename = 'hq1daymix.csv'\n",
    "fullname = dat_path + filename\n",
    "SimuDatumHq = pd.read_csv(fullname)\n",
    "global counter\n",
    "counter = 0"
   ]
  },
  {
   "cell_type": "code",
   "execution_count": 3,
   "metadata": {
    "collapsed": true
   },
   "outputs": [],
   "source": [
    "# Turn Tick Data to Dictory Data structure \n",
    "cols_all =  ['stockcode','open', 'close','price','high', 'low','buy1','buy2','vol', 'amount',\n",
    "           'B1V','B1', 'B2V','B2','B3V','B3','B4V','B4', 'B5V','B5','S1V',\n",
    "           'S1', 'S2V','S2', 'S3V','S3','S4V','S4','S5V','S5','DateTime' ] \n",
    "cols_use =  ['stockcode','open', 'close','price','high', 'low','vol', 'DateTime']"
   ]
  },
  {
   "cell_type": "code",
   "execution_count": 4,
   "metadata": {
    "collapsed": false
   },
   "outputs": [
    {
     "data": {
      "text/html": [
       "<div>\n",
       "<table border=\"1\" class=\"dataframe\">\n",
       "  <thead>\n",
       "    <tr style=\"text-align: right;\">\n",
       "      <th></th>\n",
       "      <th>stockname</th>\n",
       "      <th>Dealdetails</th>\n",
       "      <th>Timestamp</th>\n",
       "    </tr>\n",
       "  </thead>\n",
       "  <tbody>\n",
       "    <tr>\n",
       "      <th>0</th>\n",
       "      <td>sz002241</td>\n",
       "      <td>27.93, 28.03, 27.93, 27.93, 27.93, 27.9, 27.93...</td>\n",
       "      <td>2014-08-22 09:29:31</td>\n",
       "    </tr>\n",
       "    <tr>\n",
       "      <th>1</th>\n",
       "      <td>sz300024</td>\n",
       "      <td>32.81, 32.81, 32.63, 32.81, 32.53, 32.56, 32.6...</td>\n",
       "      <td>2014-08-22 09:30:04</td>\n",
       "    </tr>\n",
       "    <tr>\n",
       "      <th>2</th>\n",
       "      <td>sz002241</td>\n",
       "      <td>27.93, 28.03, 27.95, 27.95, 27.89, 27.95, 27.9...</td>\n",
       "      <td>2014-08-22 09:30:20</td>\n",
       "    </tr>\n",
       "    <tr>\n",
       "      <th>3</th>\n",
       "      <td>sz300070</td>\n",
       "      <td>30.58, 30.51, 30.52, 30.58, 30.5, 30.51, 30.52...</td>\n",
       "      <td>2014-08-22 09:30:56</td>\n",
       "    </tr>\n",
       "    <tr>\n",
       "      <th>4</th>\n",
       "      <td>sz300024</td>\n",
       "      <td>32.81, 32.81, 32.4, 32.81, 32.4, 32.4, 32.42, ...</td>\n",
       "      <td>2014-08-22 09:31:05</td>\n",
       "    </tr>\n",
       "  </tbody>\n",
       "</table>\n",
       "</div>"
      ],
      "text/plain": [
       "  stockname                                        Dealdetails  \\\n",
       "0  sz002241  27.93, 28.03, 27.93, 27.93, 27.93, 27.9, 27.93...   \n",
       "1  sz300024  32.81, 32.81, 32.63, 32.81, 32.53, 32.56, 32.6...   \n",
       "2  sz002241  27.93, 28.03, 27.95, 27.95, 27.89, 27.95, 27.9...   \n",
       "3  sz300070  30.58, 30.51, 30.52, 30.58, 30.5, 30.51, 30.52...   \n",
       "4  sz300024  32.81, 32.81, 32.4, 32.81, 32.4, 32.4, 32.42, ...   \n",
       "\n",
       "             Timestamp  \n",
       "0  2014-08-22 09:29:31  \n",
       "1  2014-08-22 09:30:04  \n",
       "2  2014-08-22 09:30:20  \n",
       "3  2014-08-22 09:30:56  \n",
       "4  2014-08-22 09:31:05  "
      ]
     },
     "execution_count": 4,
     "metadata": {},
     "output_type": "execute_result"
    }
   ],
   "source": [
    "SimuDatumHq.head()"
   ]
  },
  {
   "cell_type": "code",
   "execution_count": 5,
   "metadata": {
    "collapsed": false
   },
   "outputs": [
    {
     "data": {
      "text/html": [
       "<div>\n",
       "<table border=\"1\" class=\"dataframe\">\n",
       "  <thead>\n",
       "    <tr style=\"text-align: right;\">\n",
       "      <th></th>\n",
       "      <th>stockname</th>\n",
       "      <th>Dealdetails</th>\n",
       "      <th>Timestamp</th>\n",
       "    </tr>\n",
       "  </thead>\n",
       "  <tbody>\n",
       "    <tr>\n",
       "      <th>930</th>\n",
       "      <td>sz002130</td>\n",
       "      <td>10.92, 10.92, 10.89, 11.05, 10.77, 10.89, 10.9...</td>\n",
       "      <td>2014-08-22 14:56:56</td>\n",
       "    </tr>\n",
       "    <tr>\n",
       "      <th>931</th>\n",
       "      <td>sz002241</td>\n",
       "      <td>27.93, 28.03, 27.86, 28.28, 27.64, 27.87, 27.8...</td>\n",
       "      <td>2014-08-22 14:57:56</td>\n",
       "    </tr>\n",
       "    <tr>\n",
       "      <th>932</th>\n",
       "      <td>sz300070</td>\n",
       "      <td>30.58, 30.51, 31.11, 31.69, 30.2, 31.11, 31.11...</td>\n",
       "      <td>2014-08-22 14:57:59</td>\n",
       "    </tr>\n",
       "    <tr>\n",
       "      <th>933</th>\n",
       "      <td>sz300024</td>\n",
       "      <td>32.81, 32.81, 33.88, 35.68, 32.15, 33.87, 33.8...</td>\n",
       "      <td>2014-08-22 14:57:59</td>\n",
       "    </tr>\n",
       "    <tr>\n",
       "      <th>934</th>\n",
       "      <td>sz002130</td>\n",
       "      <td>10.92, 10.92, 10.9, 11.05, 10.77, 10.9, 10.9, ...</td>\n",
       "      <td>2014-08-22 14:57:59</td>\n",
       "    </tr>\n",
       "  </tbody>\n",
       "</table>\n",
       "</div>"
      ],
      "text/plain": [
       "    stockname                                        Dealdetails  \\\n",
       "930  sz002130  10.92, 10.92, 10.89, 11.05, 10.77, 10.89, 10.9...   \n",
       "931  sz002241  27.93, 28.03, 27.86, 28.28, 27.64, 27.87, 27.8...   \n",
       "932  sz300070  30.58, 30.51, 31.11, 31.69, 30.2, 31.11, 31.11...   \n",
       "933  sz300024  32.81, 32.81, 33.88, 35.68, 32.15, 33.87, 33.8...   \n",
       "934  sz002130  10.92, 10.92, 10.9, 11.05, 10.77, 10.9, 10.9, ...   \n",
       "\n",
       "               Timestamp  \n",
       "930  2014-08-22 14:56:56  \n",
       "931  2014-08-22 14:57:56  \n",
       "932  2014-08-22 14:57:59  \n",
       "933  2014-08-22 14:57:59  \n",
       "934  2014-08-22 14:57:59  "
      ]
     },
     "execution_count": 5,
     "metadata": {},
     "output_type": "execute_result"
    }
   ],
   "source": [
    "SimuDatumHq.tail()"
   ]
  },
  {
   "cell_type": "markdown",
   "metadata": {
    "collapsed": true
   },
   "source": [
    " * stockname has prefix and stockcode only contain digitals *  \n",
    "  1. stockname = \"sz002001\"\n",
    "  1. stockcode = stockname[2:]\n",
    "### full line of whole data from Hq.sina\n",
    " *  tick_data = [stockcode] + tick_data + [_row.Timestamp]\n",
    "  ** current used Data **\n",
    " *   tick_data[0:4] + tick_data[7] + [_row.Timestamp]\n",
    "### cols_use =  ['stockcode','open', 'close','price','high', 'low','vol', 'DateTime']"
   ]
  },
  {
   "cell_type": "code",
   "execution_count": 6,
   "metadata": {
    "collapsed": true
   },
   "outputs": [],
   "source": [
    "def getStockData(counter,typ):\n",
    "    \"\"\" counter is the location sequence number , \n",
    "    typ = full , return full length\n",
    "    typ = used , return used fields \"\"\"\n",
    "    _row = SimuDatumHq.iloc[counter]\n",
    "    stockcode = _row.stockname[2:]\n",
    "    line_dat = _row.Dealdetails    \n",
    "    tick_data = map(float,line_dat.split(','))\n",
    "    if type == \"full\":\n",
    "        out_data = [stockcode] + tick_data + [_row.Timestamp]\n",
    "    else: \n",
    "        out_data = [stockcode]+ tick_data[0:5] + [tick_data[7]] +[_row.Timestamp]\n",
    "    return out_data"
   ]
  },
  {
   "cell_type": "code",
   "execution_count": 7,
   "metadata": {
    "collapsed": false
   },
   "outputs": [
    {
     "data": {
      "text/plain": [
       "['002241', 27.93, 28.03, 27.93, 27.93, 27.93, 15700.0, '2014-08-22 09:29:31']"
      ]
     },
     "execution_count": 7,
     "metadata": {},
     "output_type": "execute_result"
    }
   ],
   "source": [
    "tick_data = getStockData(0,\"used\")\n",
    "tick_data"
   ]
  },
  {
   "cell_type": "code",
   "execution_count": 8,
   "metadata": {
    "collapsed": false
   },
   "outputs": [],
   "source": [
    "import time\n",
    "#MarketDatum  = pd.DataFrame(columns=cols_all)\n",
    "MarketDatum  = pd.DataFrame(columns=cols_use)\n",
    "\n",
    "\n",
    "def Simulate_getting_DataFrame():\n",
    "    start = time.time()\n",
    "    counter = 0\n",
    "    # run for 350 seconds\n",
    "    while (time.time() - start) < 350 and (counter< 21):\n",
    "        tickdata = getStockData(counter,\"used\")\n",
    "        #print tickdata\n",
    "        # connect and read data\n",
    "        #np.datetime\n",
    "        # dtime = pd.Timestamp(tickdata[-1])\n",
    "        npary = np.array(tickdata)\n",
    "        MarketDatum.loc[counter] = npary\n",
    "        counter += 1\n",
    "        #print \"Running -----%s==>>\"%counter\n",
    "        #time.sleep(1)\n",
    "\n",
    "Simulate_getting_DataFrame()\n",
    "MarketDatum.index = MarketDatum[\"DateTime\"] # assign DataFrame index datetime\n",
    "df = MarketDatum"
   ]
  },
  {
   "cell_type": "markdown",
   "metadata": {},
   "source": [
    "### Demo DataFrame various usage!!"
   ]
  },
  {
   "cell_type": "code",
   "execution_count": 9,
   "metadata": {
    "collapsed": false
   },
   "outputs": [
    {
     "data": {
      "text/html": [
       "<div>\n",
       "<table border=\"1\" class=\"dataframe\">\n",
       "  <thead>\n",
       "    <tr style=\"text-align: right;\">\n",
       "      <th></th>\n",
       "      <th>open</th>\n",
       "      <th>close</th>\n",
       "      <th>price</th>\n",
       "      <th>high</th>\n",
       "      <th>low</th>\n",
       "      <th>vol</th>\n",
       "    </tr>\n",
       "    <tr>\n",
       "      <th>DateTime</th>\n",
       "      <th></th>\n",
       "      <th></th>\n",
       "      <th></th>\n",
       "      <th></th>\n",
       "      <th></th>\n",
       "      <th></th>\n",
       "    </tr>\n",
       "  </thead>\n",
       "  <tbody>\n",
       "    <tr>\n",
       "      <th>2014-08-22 09:35:26</th>\n",
       "      <td>27.93</td>\n",
       "      <td>28.03</td>\n",
       "      <td>27.94</td>\n",
       "      <td>27.99</td>\n",
       "      <td>27.81</td>\n",
       "      <td>373000.0</td>\n",
       "    </tr>\n",
       "    <tr>\n",
       "      <th>2014-08-22 09:33:29</th>\n",
       "      <td>27.93</td>\n",
       "      <td>28.03</td>\n",
       "      <td>27.85</td>\n",
       "      <td>27.99</td>\n",
       "      <td>27.84</td>\n",
       "      <td>242580.0</td>\n",
       "    </tr>\n",
       "    <tr>\n",
       "      <th>2014-08-22 09:32:32</th>\n",
       "      <td>27.93</td>\n",
       "      <td>28.03</td>\n",
       "      <td>27.89</td>\n",
       "      <td>27.99</td>\n",
       "      <td>27.84</td>\n",
       "      <td>141663.0</td>\n",
       "    </tr>\n",
       "    <tr>\n",
       "      <th>2014-08-22 09:31:20</th>\n",
       "      <td>27.93</td>\n",
       "      <td>28.03</td>\n",
       "      <td>27.90</td>\n",
       "      <td>27.99</td>\n",
       "      <td>27.84</td>\n",
       "      <td>71380.0</td>\n",
       "    </tr>\n",
       "    <tr>\n",
       "      <th>2014-08-22 09:30:20</th>\n",
       "      <td>27.93</td>\n",
       "      <td>28.03</td>\n",
       "      <td>27.95</td>\n",
       "      <td>27.95</td>\n",
       "      <td>27.89</td>\n",
       "      <td>47037.0</td>\n",
       "    </tr>\n",
       "    <tr>\n",
       "      <th>2014-08-22 09:29:31</th>\n",
       "      <td>27.93</td>\n",
       "      <td>28.03</td>\n",
       "      <td>27.93</td>\n",
       "      <td>27.93</td>\n",
       "      <td>27.93</td>\n",
       "      <td>15700.0</td>\n",
       "    </tr>\n",
       "  </tbody>\n",
       "</table>\n",
       "</div>"
      ],
      "text/plain": [
       "                      open  close  price   high    low       vol\n",
       "DateTime                                                        \n",
       "2014-08-22 09:35:26  27.93  28.03  27.94  27.99  27.81  373000.0\n",
       "2014-08-22 09:33:29  27.93  28.03  27.85  27.99  27.84  242580.0\n",
       "2014-08-22 09:32:32  27.93  28.03  27.89  27.99  27.84  141663.0\n",
       "2014-08-22 09:31:20  27.93  28.03  27.90  27.99  27.84   71380.0\n",
       "2014-08-22 09:30:20  27.93  28.03  27.95  27.95  27.89   47037.0\n",
       "2014-08-22 09:29:31  27.93  28.03  27.93  27.93  27.93   15700.0"
      ]
     },
     "execution_count": 9,
     "metadata": {},
     "output_type": "execute_result"
    }
   ],
   "source": [
    "cols_use[:-1]   # exclude last datatime field\n",
    "df= df[cols_use[:-1]]  \n",
    "#np.array?\n",
    "# df\n",
    "df = df[df.stockcode == '002241']  #DataFrame of the stockcode \n",
    "st_df= df[cols_use[1:7]] # exclude the stockcode\n",
    "st_df\n",
    "df = st_df.astype(np.float) # assign float type to numeric fields\n",
    "df\n",
    "#df.dtypes\n",
    "df.sort_values(by='vol', ascending=False)  \n",
    "#MarketDatum_use = df[cols_use]\n",
    "#MarketDatum_use"
   ]
  },
  {
   "cell_type": "code",
   "execution_count": 18,
   "metadata": {
    "collapsed": false
   },
   "outputs": [
    {
     "name": "stdout",
     "output_type": "stream",
     "text": [
      "open     float64\n",
      "close    float64\n",
      "price    float64\n",
      "high     float64\n",
      "low      float64\n",
      "vol      float64\n",
      "dtype: object\n"
     ]
    },
    {
     "data": {
      "text/html": [
       "<div>\n",
       "<table border=\"1\" class=\"dataframe\">\n",
       "  <thead>\n",
       "    <tr style=\"text-align: right;\">\n",
       "      <th></th>\n",
       "      <th>close</th>\n",
       "      <th>high</th>\n",
       "      <th>low</th>\n",
       "      <th>open</th>\n",
       "      <th>price</th>\n",
       "      <th>vol</th>\n",
       "    </tr>\n",
       "    <tr>\n",
       "      <th>DateTime</th>\n",
       "      <th></th>\n",
       "      <th></th>\n",
       "      <th></th>\n",
       "      <th></th>\n",
       "      <th></th>\n",
       "      <th></th>\n",
       "    </tr>\n",
       "  </thead>\n",
       "  <tbody>\n",
       "    <tr>\n",
       "      <th>2014-08-22 09:29:31</th>\n",
       "      <td>28.03</td>\n",
       "      <td>27.93</td>\n",
       "      <td>27.93</td>\n",
       "      <td>27.93</td>\n",
       "      <td>27.93</td>\n",
       "      <td>15700.0</td>\n",
       "    </tr>\n",
       "    <tr>\n",
       "      <th>2014-08-22 09:30:20</th>\n",
       "      <td>28.03</td>\n",
       "      <td>27.95</td>\n",
       "      <td>27.89</td>\n",
       "      <td>27.93</td>\n",
       "      <td>27.95</td>\n",
       "      <td>47037.0</td>\n",
       "    </tr>\n",
       "    <tr>\n",
       "      <th>2014-08-22 09:31:20</th>\n",
       "      <td>28.03</td>\n",
       "      <td>27.99</td>\n",
       "      <td>27.84</td>\n",
       "      <td>27.93</td>\n",
       "      <td>27.90</td>\n",
       "      <td>71380.0</td>\n",
       "    </tr>\n",
       "    <tr>\n",
       "      <th>2014-08-22 09:32:32</th>\n",
       "      <td>28.03</td>\n",
       "      <td>27.99</td>\n",
       "      <td>27.84</td>\n",
       "      <td>27.93</td>\n",
       "      <td>27.89</td>\n",
       "      <td>141663.0</td>\n",
       "    </tr>\n",
       "    <tr>\n",
       "      <th>2014-08-22 09:33:29</th>\n",
       "      <td>28.03</td>\n",
       "      <td>27.99</td>\n",
       "      <td>27.84</td>\n",
       "      <td>27.93</td>\n",
       "      <td>27.85</td>\n",
       "      <td>242580.0</td>\n",
       "    </tr>\n",
       "    <tr>\n",
       "      <th>2014-08-22 09:35:26</th>\n",
       "      <td>28.03</td>\n",
       "      <td>27.99</td>\n",
       "      <td>27.81</td>\n",
       "      <td>27.93</td>\n",
       "      <td>27.94</td>\n",
       "      <td>373000.0</td>\n",
       "    </tr>\n",
       "  </tbody>\n",
       "</table>\n",
       "</div>"
      ],
      "text/plain": [
       "                     close   high    low   open  price       vol\n",
       "DateTime                                                        \n",
       "2014-08-22 09:29:31  28.03  27.93  27.93  27.93  27.93   15700.0\n",
       "2014-08-22 09:30:20  28.03  27.95  27.89  27.93  27.95   47037.0\n",
       "2014-08-22 09:31:20  28.03  27.99  27.84  27.93  27.90   71380.0\n",
       "2014-08-22 09:32:32  28.03  27.99  27.84  27.93  27.89  141663.0\n",
       "2014-08-22 09:33:29  28.03  27.99  27.84  27.93  27.85  242580.0\n",
       "2014-08-22 09:35:26  28.03  27.99  27.81  27.93  27.94  373000.0"
      ]
     },
     "execution_count": 18,
     "metadata": {},
     "output_type": "execute_result"
    }
   ],
   "source": [
    "print df.dtypes\n",
    "df.sort_index(axis=1)  # return to normal index \n",
    "#df.sort_index?"
   ]
  },
  {
   "cell_type": "markdown",
   "metadata": {},
   "source": [
    "### stat table : calculate the fields\n",
    "#### first load the day and the lc1 files , in the directory ../datum/"
   ]
  },
  {
   "cell_type": "code",
   "execution_count": 11,
   "metadata": {
    "collapsed": false
   },
   "outputs": [
    {
     "name": "stdout",
     "output_type": "stream",
     "text": [
      "../datum/sz002594.day\n"
     ]
    }
   ],
   "source": [
    "stockname = \"sz002594\"\n",
    "fullname = dat_path + stockname + \".day\"\n",
    "print fullname\n",
    "byd_days = stockdata.daysDataOfStock(fullname)"
   ]
  },
  {
   "cell_type": "code",
   "execution_count": 12,
   "metadata": {
    "collapsed": false
   },
   "outputs": [
    {
     "data": {
      "text/html": [
       "<div>\n",
       "<table border=\"1\" class=\"dataframe\">\n",
       "  <thead>\n",
       "    <tr style=\"text-align: right;\">\n",
       "      <th></th>\n",
       "      <th>open</th>\n",
       "      <th>high</th>\n",
       "      <th>low</th>\n",
       "      <th>close</th>\n",
       "      <th>vol</th>\n",
       "    </tr>\n",
       "    <tr>\n",
       "      <th>date_idx</th>\n",
       "      <th></th>\n",
       "      <th></th>\n",
       "      <th></th>\n",
       "      <th></th>\n",
       "      <th></th>\n",
       "    </tr>\n",
       "  </thead>\n",
       "  <tbody>\n",
       "    <tr>\n",
       "      <th>2016-09-05</th>\n",
       "      <td>58.00</td>\n",
       "      <td>58.26</td>\n",
       "      <td>57.60</td>\n",
       "      <td>57.92</td>\n",
       "      <td>26712.51</td>\n",
       "    </tr>\n",
       "    <tr>\n",
       "      <th>2016-09-06</th>\n",
       "      <td>58.12</td>\n",
       "      <td>59.52</td>\n",
       "      <td>57.78</td>\n",
       "      <td>59.51</td>\n",
       "      <td>84732.65</td>\n",
       "    </tr>\n",
       "    <tr>\n",
       "      <th>2016-09-07</th>\n",
       "      <td>59.50</td>\n",
       "      <td>59.60</td>\n",
       "      <td>58.90</td>\n",
       "      <td>58.97</td>\n",
       "      <td>51287.28</td>\n",
       "    </tr>\n",
       "    <tr>\n",
       "      <th>2016-09-08</th>\n",
       "      <td>58.98</td>\n",
       "      <td>59.25</td>\n",
       "      <td>58.75</td>\n",
       "      <td>58.90</td>\n",
       "      <td>32724.36</td>\n",
       "    </tr>\n",
       "    <tr>\n",
       "      <th>2016-09-09</th>\n",
       "      <td>59.03</td>\n",
       "      <td>60.28</td>\n",
       "      <td>58.99</td>\n",
       "      <td>59.01</td>\n",
       "      <td>67664.29</td>\n",
       "    </tr>\n",
       "  </tbody>\n",
       "</table>\n",
       "</div>"
      ],
      "text/plain": [
       "             open   high    low  close       vol\n",
       "date_idx                                        \n",
       "2016-09-05  58.00  58.26  57.60  57.92  26712.51\n",
       "2016-09-06  58.12  59.52  57.78  59.51  84732.65\n",
       "2016-09-07  59.50  59.60  58.90  58.97  51287.28\n",
       "2016-09-08  58.98  59.25  58.75  58.90  32724.36\n",
       "2016-09-09  59.03  60.28  58.99  59.01  67664.29"
      ]
     },
     "execution_count": 12,
     "metadata": {},
     "output_type": "execute_result"
    }
   ],
   "source": [
    "bydDF = byd_days.DF\n",
    "bydDF.tail()"
   ]
  },
  {
   "cell_type": "code",
   "execution_count": 13,
   "metadata": {
    "collapsed": false
   },
   "outputs": [
    {
     "data": {
      "text/html": [
       "<div>\n",
       "<table border=\"1\" class=\"dataframe\">\n",
       "  <thead>\n",
       "    <tr style=\"text-align: right;\">\n",
       "      <th></th>\n",
       "      <th>open</th>\n",
       "      <th>high</th>\n",
       "      <th>low</th>\n",
       "      <th>close</th>\n",
       "      <th>vol</th>\n",
       "    </tr>\n",
       "    <tr>\n",
       "      <th>date_idx</th>\n",
       "      <th></th>\n",
       "      <th></th>\n",
       "      <th></th>\n",
       "      <th></th>\n",
       "      <th></th>\n",
       "    </tr>\n",
       "  </thead>\n",
       "  <tbody>\n",
       "    <tr>\n",
       "      <th>2016-06-20</th>\n",
       "      <td>59.51</td>\n",
       "      <td>60.16</td>\n",
       "      <td>59.28</td>\n",
       "      <td>59.60</td>\n",
       "      <td>44497.36</td>\n",
       "    </tr>\n",
       "    <tr>\n",
       "      <th>2016-06-21</th>\n",
       "      <td>59.95</td>\n",
       "      <td>60.60</td>\n",
       "      <td>59.21</td>\n",
       "      <td>59.39</td>\n",
       "      <td>98047.29</td>\n",
       "    </tr>\n",
       "    <tr>\n",
       "      <th>2016-06-22</th>\n",
       "      <td>60.42</td>\n",
       "      <td>61.80</td>\n",
       "      <td>60.15</td>\n",
       "      <td>60.92</td>\n",
       "      <td>133208.45</td>\n",
       "    </tr>\n",
       "    <tr>\n",
       "      <th>2016-06-23</th>\n",
       "      <td>60.36</td>\n",
       "      <td>60.99</td>\n",
       "      <td>59.77</td>\n",
       "      <td>60.03</td>\n",
       "      <td>65656.58</td>\n",
       "    </tr>\n",
       "    <tr>\n",
       "      <th>2016-06-24</th>\n",
       "      <td>59.99</td>\n",
       "      <td>60.49</td>\n",
       "      <td>57.30</td>\n",
       "      <td>59.11</td>\n",
       "      <td>82357.35</td>\n",
       "    </tr>\n",
       "  </tbody>\n",
       "</table>\n",
       "</div>"
      ],
      "text/plain": [
       "             open   high    low  close        vol\n",
       "date_idx                                         \n",
       "2016-06-20  59.51  60.16  59.28  59.60   44497.36\n",
       "2016-06-21  59.95  60.60  59.21  59.39   98047.29\n",
       "2016-06-22  60.42  61.80  60.15  60.92  133208.45\n",
       "2016-06-23  60.36  60.99  59.77  60.03   65656.58\n",
       "2016-06-24  59.99  60.49  57.30  59.11   82357.35"
      ]
     },
     "execution_count": 13,
     "metadata": {},
     "output_type": "execute_result"
    }
   ],
   "source": [
    "bydDF.head()"
   ]
  },
  {
   "cell_type": "markdown",
   "metadata": {},
   "source": [
    "### pre definition of the CCI Computing \n",
    "### Notice that first calculate the type price \n"
   ]
  },
  {
   "cell_type": "code",
   "execution_count": null,
   "metadata": {
    "collapsed": true
   },
   "outputs": [],
   "source": [
    "\n",
    "\n",
    "def dev(bars):\n",
    "    \n",
    "    return (np.abs(bars.typrice - bars.tp_sma[-1]))\n",
    "\n",
    "def mdev(bars):\n",
    "    \"\"\"mean deviation \"\"\"\n",
    "    return np.round(np.sum(dev(bars))/len(bars),2)\n",
    "\n",
    "def compute_bars_CCI(bars, windows):\n",
    "    \"\"\"computing the bars cci from a dataframe data type\n",
    "    window = 20\n",
    "    bars = byd_day_DF \"\"\"\n",
    "    length = len(bars)\n",
    "    bars[\"typrice\"] = (bars.close + bars.high + bars.low)/3\n",
    "    bars[\"tp_sma\"] = bars.typrice.rolling(window=20).mean()\n",
    "    bars[\"mdev\"] = pd.concat([(pd.Series(mdev(bars.iloc[i:i+window]), \\\n",
    "                            index=[bars.index[i+window-1]])) for i in xrange(length-window)])\n",
    "    cci = (bars.typrice-bars.tp_sma)/(0.015*bars.mdev) \n",
    "    bars[\"cci\"] =  cci.round(2)\n",
    "    return cci.round(2)"
   ]
  },
  {
   "cell_type": "code",
   "execution_count": null,
   "metadata": {
    "collapsed": false
   },
   "outputs": [],
   "source": [
    "# Show how we add to DataFrame new field!!!\n",
    "byd_day_DF = byd_day_datum.DF  \n",
    "byd_day_DF[\"typrice\"] = (byd_day_DF.close+byd_day_DF.high+byd_day_DF.low)/3\n",
    "# byd_day_DF[\"tp_sma\"] = pd.rolling_mean(byd_day_DF.typrice,20)  # deprecated \n",
    "byd_day_DF[\"tp_sma\"] = byd_day_DF.typrice.rolling(window=20).mean()\n",
    "# byd_day_DF.typrice[0:19] - byd_day_DF.tp_sma[19]\n",
    "#byd_day_DF[:30]\n",
    "byd_day_DF[\"abs_dev\"] = dev(byd_day_DF[:20])\n",
    "byd_day_DF[\"mdev\"] = mdev(byd_day_DF[:20])\n",
    "byd_day_DF[:20]"
   ]
  },
  {
   "cell_type": "code",
   "execution_count": null,
   "metadata": {
    "collapsed": true
   },
   "outputs": [],
   "source": []
  }
 ],
 "metadata": {
  "kernelspec": {
   "display_name": "Python 2",
   "language": "python",
   "name": "python2"
  },
  "language_info": {
   "codemirror_mode": {
    "name": "ipython",
    "version": 2
   },
   "file_extension": ".py",
   "mimetype": "text/x-python",
   "name": "python",
   "nbconvert_exporter": "python",
   "pygments_lexer": "ipython2",
   "version": "2.7.11"
  }
 },
 "nbformat": 4,
 "nbformat_minor": 0
}
