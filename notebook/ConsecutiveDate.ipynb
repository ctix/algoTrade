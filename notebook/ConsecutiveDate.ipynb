{
 "cells": [
  {
   "cell_type": "markdown",
   "metadata": {},
   "source": [
    "## Consecutive Work day\n",
    "###   pandas  Bussiness Day\n",
    "### from datetime import timedelta\n",
    "* today + timedelta(days = 1) "
   ]
  },
  {
   "cell_type": "code",
   "execution_count": 35,
   "metadata": {
    "collapsed": false
   },
   "outputs": [
    {
     "data": {
      "text/plain": [
       "Timestamp('2016-09-19 10:41:16.917736', tz=None)"
      ]
     },
     "execution_count": 35,
     "metadata": {},
     "output_type": "execute_result"
    }
   ],
   "source": [
    "# import pandas as pd\n",
    "# BDay is business day, not birthday...\n",
    "from pandas.tseries.offsets import BDay\n",
    "\n",
    "# pd.datetime is an alias for datetime.datetime\n",
    "today = pd.datetime.today()\n",
    "today + BDay(1)"
   ]
  },
  {
   "cell_type": "code",
   "execution_count": null,
   "metadata": {
    "collapsed": true
   },
   "outputs": [],
   "source": [
    "print BDay.name"
   ]
  },
  {
   "cell_type": "code",
   "execution_count": 17,
   "metadata": {
    "collapsed": false
   },
   "outputs": [
    {
     "data": {
      "text/plain": [
       "datetime.date(2016, 9, 17)"
      ]
     },
     "execution_count": 17,
     "metadata": {},
     "output_type": "execute_result"
    }
   ],
   "source": [
    "today.date()"
   ]
  },
  {
   "cell_type": "code",
   "execution_count": 36,
   "metadata": {
    "collapsed": false
   },
   "outputs": [],
   "source": [
    "from datetime import datetime ,timedelta\n",
    "\n",
    "now_dt = datetime.now()\n",
    "preday =  now_dt - timedelta(days = 1)\n",
    "nextday = now_dt + timedelta(days = 1)"
   ]
  },
  {
   "cell_type": "code",
   "execution_count": 40,
   "metadata": {
    "collapsed": false
   },
   "outputs": [
    {
     "name": "stdout",
     "output_type": "stream",
     "text": [
      "5 4 6\n",
      "2016-09-17\n"
     ]
    },
    {
     "data": {
      "text/plain": [
       "17"
      ]
     },
     "execution_count": 40,
     "metadata": {},
     "output_type": "execute_result"
    }
   ],
   "source": [
    "print now_dt.weekday()  , preday.weekday(), nextday.weekday()  \n",
    "print now_dt.date()\n",
    "now_dt.day"
   ]
  },
  {
   "cell_type": "code",
   "execution_count": 13,
   "metadata": {
    "collapsed": false
   },
   "outputs": [
    {
     "data": {
      "text/plain": [
       "17"
      ]
     },
     "execution_count": 13,
     "metadata": {},
     "output_type": "execute_result"
    }
   ],
   "source": [
    "#  Monday 0  , ----- Sunday 6\n",
    "\n"
   ]
  },
  {
   "cell_type": "markdown",
   "metadata": {},
   "source": [
    "### Show the pandas dataFrame range \n",
    "  ** from start date to end date** \n",
    "  1. vipdoc directory structure "
   ]
  },
  {
   "cell_type": "code",
   "execution_count": 2,
   "metadata": {
    "collapsed": true
   },
   "outputs": [],
   "source": [
    "import sys\n",
    "sys.path.append(\"..\")\n",
    "from stockdata import *\n",
    "dirname = \"../datum\"\n",
    "subdir = {\"lday\": \"day\",  # \n",
    "        \"minline\": \"lc1\",\n",
    "        \"fzline\" : \"lc5\"}\n",
    "index_lst = [\"sz002001\",\"sz002594\"]"
   ]
  },
  {
   "cell_type": "code",
   "execution_count": null,
   "metadata": {
    "collapsed": true
   },
   "outputs": [],
   "source": [
    "def get_dataFrame_time_range(dirname,stockcode):\n",
    "    \"\"\" Get from StockClient Download vip doc directory\"\"\"\n",
    "    for indx in index_lst:\n",
    "        for _subdir in subdir.keys():\n",
    "            filename = indx + \".\"+subdir[sub]\n",
    "            fullname = dirname + \"\\\\\" + indx[:2] + \"\\\\\" \\\n",
    "                        + _subdir +\"\\\\\"  + filename\n",
    "            print fullname\n",
    "            if subdir[_subdir] == \"day\":\n",
    "                testndx = daysDataOfStock(fullname)\n",
    "            else:\n",
    "                testndx = minuteOfStock(fullname)\n",
    "\n",
    "            firstdt = testndx.DF.index[0]\n",
    "            lastdt = testndx.DF.index[-1]\n",
    "            print firstdt, lastdt"
   ]
  },
  {
   "cell_type": "code",
   "execution_count": null,
   "metadata": {
    "collapsed": true
   },
   "outputs": [],
   "source": [
    "dirname = \"../datum\"  # test datum set "
   ]
  },
  {
   "cell_type": "code",
   "execution_count": null,
   "metadata": {
    "collapsed": true
   },
   "outputs": [],
   "source": [
    "def get_dataFrame_time_range(dirname,stockcode):\n",
    "    \"\"\" Get from StockClient Download vip doc directory\"\"\"\n",
    "    for indx in index_lst:\n",
    "        for _subdir in subdir.keys():\n",
    "            filename = indx + \".\"+subdir[sub]\n",
    "            fullname = dirname + \"\\\\\" + indx[:2] + \"\\\\\" \\\n",
    "                        + _subdir +\"\\\\\"  + filename\n",
    "            print fullname\n",
    "            if subdir[_subdir] == \"day\":\n",
    "                testndx = daysDataOfStock(fullname)\n",
    "            else:\n",
    "                testndx = minuteOfStock(fullname)\n",
    "\n",
    "            firstdt = testndx.DF.index[0]\n",
    "            lastdt = testndx.DF.index[-1]\n",
    "            print firstdt, lastdt"
   ]
  },
  {
   "cell_type": "code",
   "execution_count": null,
   "metadata": {
    "collapsed": true
   },
   "outputs": [],
   "source": []
  }
 ],
 "metadata": {
  "kernelspec": {
   "display_name": "Python 2",
   "language": "python",
   "name": "python2"
  },
  "language_info": {
   "codemirror_mode": {
    "name": "ipython",
    "version": 2
   },
   "file_extension": ".py",
   "mimetype": "text/x-python",
   "name": "python",
   "nbconvert_exporter": "python",
   "pygments_lexer": "ipython2",
   "version": "2.7.11"
  }
 },
 "nbformat": 4,
 "nbformat_minor": 1
}
