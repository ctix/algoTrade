{
 "cells": [
  {
   "cell_type": "code",
   "execution_count": 1,
   "metadata": {
    "collapsed": true
   },
   "outputs": [],
   "source": [
    "path = \"D:\\\\tools\\\\new_tdx\\\\vipdoc\\\\sz\\\\\"\n",
    "daypath = path+\"lday\\\\\"\n",
    "minpath = path+\"minline\\\\\""
   ]
  },
  {
   "cell_type": "code",
   "execution_count": 2,
   "metadata": {
    "collapsed": false
   },
   "outputs": [
    {
     "name": "stdout",
     "output_type": "stream",
     "text": [
      "D:\\tools\\new_tdx\\vipdoc\\sz\\lday\\ D:\\tools\\new_tdx\\vipdoc\\sz\\minline\\\n"
     ]
    }
   ],
   "source": [
    "# test check if give the right value\n",
    "print daypath, minpath\n"
   ]
  },
  {
   "cell_type": "code",
   "execution_count": 3,
   "metadata": {
    "collapsed": false
   },
   "outputs": [],
   "source": [
    "import sys\n",
    "sys.path.append(\"..\")\n",
    "from realtime.stockdata import *"
   ]
  },
  {
   "cell_type": "code",
   "execution_count": 4,
   "metadata": {
    "collapsed": false
   },
   "outputs": [],
   "source": [
    "bydfile = daypath + \"//sz002594.day\"\n",
    "byd_day = daysDataOfStock(bydfile)"
   ]
  },
  {
   "cell_type": "code",
   "execution_count": 5,
   "metadata": {
    "collapsed": false
   },
   "outputs": [
    {
     "data": {
      "text/plain": [
       "Timestamp('2016-09-23 00:00:00')"
      ]
     },
     "execution_count": 5,
     "metadata": {},
     "output_type": "execute_result"
    }
   ],
   "source": [
    "byd_day.DF.index[-1]"
   ]
  },
  {
   "cell_type": "code",
   "execution_count": 6,
   "metadata": {
    "collapsed": false
   },
   "outputs": [],
   "source": [
    "start_end = byd_day.getDateRange()"
   ]
  },
  {
   "cell_type": "code",
   "execution_count": 7,
   "metadata": {
    "collapsed": false
   },
   "outputs": [
    {
     "data": {
      "text/plain": [
       "(Timestamp('2011-06-30 00:00:00'), Timestamp('2016-09-23 00:00:00'))"
      ]
     },
     "execution_count": 7,
     "metadata": {},
     "output_type": "execute_result"
    }
   ],
   "source": [
    "start_end"
   ]
  },
  {
   "cell_type": "code",
   "execution_count": 8,
   "metadata": {
    "collapsed": true
   },
   "outputs": [],
   "source": [
    "bydminfile = minpath+\"//sz002594.lc1\"\n",
    "byd_min = minuteOfStock(bydminfile)"
   ]
  },
  {
   "cell_type": "markdown",
   "metadata": {},
   "source": [
    "### byd_min.dataframe.index[0]\n",
    "### byd_min.dataframe.index[-1]\n",
    "#Timestamp('2015-02-04 09:31:00')\n",
    "#Timestamp('2016-09-23 15:00:00')"
   ]
  },
  {
   "cell_type": "code",
   "execution_count": 11,
   "metadata": {
    "collapsed": false
   },
   "outputs": [],
   "source": [
    "dt_range = byd_min.getDatetimeRange()\n",
    "### (Timestamp('2015-02-04 09:31:00'), Timestamp('2016-09-23 15:00:00'))"
   ]
  },
  {
   "cell_type": "markdown",
   "metadata": {},
   "source": [
    "### No luck ,it's an empty directory, no files\n",
    "#### ztpath = \"D:\\\\tools\\\\new_ztzq_v6\\\\vipdoc\\\\sz\\\\minline\"\n",
    "#### ztbydminfile = ztpath+\"\\\\sz002594.lc1\"\n"
   ]
  },
  {
   "cell_type": "markdown",
   "metadata": {},
   "source": [
    "### generating the back test dataset \n",
    "** from minutes date range build the daily dataset date range\n",
    "#### first slicing the date range , change the stockdata.py \n",
    "> add the function ,take out the dataframe by date range"
   ]
  },
  {
   "cell_type": "code",
   "execution_count": 38,
   "metadata": {
    "collapsed": false,
    "scrolled": true
   },
   "outputs": [],
   "source": [
    "# type(dt_range)  ===> tuple\n",
    "# type(dt_range[0]) ===> pandas.tslib.Timestamp\n",
    "#dt_range[0].date()   ===> datetime.date(2015, 2, 4)\n",
    "start_dt = dt_range[0].date()\n",
    "# byd_day.DF.index.dtype ===> dtype('<M8[ns]')\n",
    "testDF = byd_day.DF[byd_day.DF.index.date >=  start_dt]"
   ]
  },
  {
   "cell_type": "code",
   "execution_count": 39,
   "metadata": {
    "collapsed": false
   },
   "outputs": [
    {
     "data": {
      "text/html": [
       "<div>\n",
       "<table border=\"1\" class=\"dataframe\">\n",
       "  <thead>\n",
       "    <tr style=\"text-align: right;\">\n",
       "      <th></th>\n",
       "      <th>open</th>\n",
       "      <th>high</th>\n",
       "      <th>low</th>\n",
       "      <th>close</th>\n",
       "      <th>vol</th>\n",
       "    </tr>\n",
       "  </thead>\n",
       "  <tbody>\n",
       "    <tr>\n",
       "      <th>2015-02-04</th>\n",
       "      <td>39.35</td>\n",
       "      <td>39.35</td>\n",
       "      <td>38.00</td>\n",
       "      <td>38.27</td>\n",
       "      <td>91584.83</td>\n",
       "    </tr>\n",
       "    <tr>\n",
       "      <th>2015-02-05</th>\n",
       "      <td>38.33</td>\n",
       "      <td>38.52</td>\n",
       "      <td>37.70</td>\n",
       "      <td>37.73</td>\n",
       "      <td>69629.99</td>\n",
       "    </tr>\n",
       "    <tr>\n",
       "      <th>2015-02-06</th>\n",
       "      <td>37.99</td>\n",
       "      <td>38.12</td>\n",
       "      <td>35.91</td>\n",
       "      <td>36.23</td>\n",
       "      <td>109645.33</td>\n",
       "    </tr>\n",
       "    <tr>\n",
       "      <th>2015-02-09</th>\n",
       "      <td>36.36</td>\n",
       "      <td>36.59</td>\n",
       "      <td>36.03</td>\n",
       "      <td>36.23</td>\n",
       "      <td>48008.13</td>\n",
       "    </tr>\n",
       "    <tr>\n",
       "      <th>2015-02-10</th>\n",
       "      <td>36.49</td>\n",
       "      <td>37.32</td>\n",
       "      <td>36.11</td>\n",
       "      <td>37.14</td>\n",
       "      <td>59569.94</td>\n",
       "    </tr>\n",
       "  </tbody>\n",
       "</table>\n",
       "</div>"
      ],
      "text/plain": [
       "             open   high    low  close        vol\n",
       "2015-02-04  39.35  39.35  38.00  38.27   91584.83\n",
       "2015-02-05  38.33  38.52  37.70  37.73   69629.99\n",
       "2015-02-06  37.99  38.12  35.91  36.23  109645.33\n",
       "2015-02-09  36.36  36.59  36.03  36.23   48008.13\n",
       "2015-02-10  36.49  37.32  36.11  37.14   59569.94"
      ]
     },
     "execution_count": 39,
     "metadata": {},
     "output_type": "execute_result"
    }
   ],
   "source": [
    "#start_dt\n",
    "testDF.head()"
   ]
  },
  {
   "cell_type": "markdown",
   "metadata": {},
   "source": [
    "### OK ,in line with the daily and minutes dataframe\n",
    "#### question: how to locate the start point of  position in the daily DataFrmae"
   ]
  },
  {
   "cell_type": "markdown",
   "metadata": {},
   "source": [
    "### type(byd_day.DF.iloc[0]) ===> pandas.core.series.Series\n",
    "####  byd_day.DF.loc[start_dt]  ===>\n",
    " > python \n",
    " open        39.35\n",
    " high        39.35\n",
    " low         38.00\n",
    " close       38.27\n",
    " vol      91584.83\n",
    " Name: 2015-02-04 00:00:00, dtype: float64\n",
    " \n",
    " * byd_day.DF.index.get_loc(start_dt) ===> 872  \n",
    " * byd_day.DF.iloc[byd_day.DF.index.get_loc(start_dt)] ===> still got above **"
   ]
  },
  {
   "cell_type": "code",
   "execution_count": 79,
   "metadata": {
    "collapsed": false
   },
   "outputs": [
    {
     "data": {
      "text/html": [
       "<div>\n",
       "<table border=\"1\" class=\"dataframe\">\n",
       "  <thead>\n",
       "    <tr style=\"text-align: right;\">\n",
       "      <th></th>\n",
       "      <th>open</th>\n",
       "      <th>high</th>\n",
       "      <th>low</th>\n",
       "      <th>close</th>\n",
       "      <th>vol</th>\n",
       "    </tr>\n",
       "  </thead>\n",
       "  <tbody>\n",
       "    <tr>\n",
       "      <th>2015-02-04</th>\n",
       "      <td>39.35</td>\n",
       "      <td>39.35</td>\n",
       "      <td>38.00</td>\n",
       "      <td>38.27</td>\n",
       "      <td>91584.83</td>\n",
       "    </tr>\n",
       "    <tr>\n",
       "      <th>2015-02-05</th>\n",
       "      <td>38.33</td>\n",
       "      <td>38.52</td>\n",
       "      <td>37.70</td>\n",
       "      <td>37.73</td>\n",
       "      <td>69629.99</td>\n",
       "    </tr>\n",
       "    <tr>\n",
       "      <th>2015-02-06</th>\n",
       "      <td>37.99</td>\n",
       "      <td>38.12</td>\n",
       "      <td>35.91</td>\n",
       "      <td>36.23</td>\n",
       "      <td>109645.33</td>\n",
       "    </tr>\n",
       "    <tr>\n",
       "      <th>2015-02-09</th>\n",
       "      <td>36.36</td>\n",
       "      <td>36.59</td>\n",
       "      <td>36.03</td>\n",
       "      <td>36.23</td>\n",
       "      <td>48008.13</td>\n",
       "    </tr>\n",
       "    <tr>\n",
       "      <th>2015-02-10</th>\n",
       "      <td>36.49</td>\n",
       "      <td>37.32</td>\n",
       "      <td>36.11</td>\n",
       "      <td>37.14</td>\n",
       "      <td>59569.94</td>\n",
       "    </tr>\n",
       "    <tr>\n",
       "      <th>2015-02-11</th>\n",
       "      <td>36.80</td>\n",
       "      <td>37.34</td>\n",
       "      <td>36.46</td>\n",
       "      <td>36.61</td>\n",
       "      <td>71370.68</td>\n",
       "    </tr>\n",
       "    <tr>\n",
       "      <th>2015-02-12</th>\n",
       "      <td>36.65</td>\n",
       "      <td>37.97</td>\n",
       "      <td>36.45</td>\n",
       "      <td>37.88</td>\n",
       "      <td>102848.68</td>\n",
       "    </tr>\n",
       "    <tr>\n",
       "      <th>2015-02-13</th>\n",
       "      <td>38.49</td>\n",
       "      <td>41.67</td>\n",
       "      <td>38.06</td>\n",
       "      <td>41.67</td>\n",
       "      <td>369387.35</td>\n",
       "    </tr>\n",
       "  </tbody>\n",
       "</table>\n",
       "</div>"
      ],
      "text/plain": [
       "             open   high    low  close        vol\n",
       "2015-02-04  39.35  39.35  38.00  38.27   91584.83\n",
       "2015-02-05  38.33  38.52  37.70  37.73   69629.99\n",
       "2015-02-06  37.99  38.12  35.91  36.23  109645.33\n",
       "2015-02-09  36.36  36.59  36.03  36.23   48008.13\n",
       "2015-02-10  36.49  37.32  36.11  37.14   59569.94\n",
       "2015-02-11  36.80  37.34  36.46  36.61   71370.68\n",
       "2015-02-12  36.65  37.97  36.45  37.88  102848.68\n",
       "2015-02-13  38.49  41.67  38.06  41.67  369387.35"
      ]
     },
     "execution_count": 79,
     "metadata": {},
     "output_type": "execute_result"
    }
   ],
   "source": [
    "byd_day.DF.iloc[872:880]"
   ]
  },
  {
   "cell_type": "code",
   "execution_count": 84,
   "metadata": {
    "collapsed": false
   },
   "outputs": [],
   "source": [
    " testDF = byd_day.DF.iloc[872-19:]"
   ]
  },
  {
   "cell_type": "code",
   "execution_count": 85,
   "metadata": {
    "collapsed": false
   },
   "outputs": [
    {
     "data": {
      "text/html": [
       "<div>\n",
       "<table border=\"1\" class=\"dataframe\">\n",
       "  <thead>\n",
       "    <tr style=\"text-align: right;\">\n",
       "      <th></th>\n",
       "      <th>open</th>\n",
       "      <th>high</th>\n",
       "      <th>low</th>\n",
       "      <th>close</th>\n",
       "      <th>vol</th>\n",
       "    </tr>\n",
       "  </thead>\n",
       "  <tbody>\n",
       "    <tr>\n",
       "      <th>2015-01-08</th>\n",
       "      <td>38.93</td>\n",
       "      <td>39.20</td>\n",
       "      <td>38.38</td>\n",
       "      <td>38.51</td>\n",
       "      <td>68917.85</td>\n",
       "    </tr>\n",
       "    <tr>\n",
       "      <th>2015-01-09</th>\n",
       "      <td>38.54</td>\n",
       "      <td>39.50</td>\n",
       "      <td>38.35</td>\n",
       "      <td>38.44</td>\n",
       "      <td>85150.94</td>\n",
       "    </tr>\n",
       "    <tr>\n",
       "      <th>2015-01-12</th>\n",
       "      <td>38.48</td>\n",
       "      <td>40.33</td>\n",
       "      <td>38.48</td>\n",
       "      <td>39.48</td>\n",
       "      <td>113488.54</td>\n",
       "    </tr>\n",
       "    <tr>\n",
       "      <th>2015-01-13</th>\n",
       "      <td>40.00</td>\n",
       "      <td>40.89</td>\n",
       "      <td>39.50</td>\n",
       "      <td>40.32</td>\n",
       "      <td>133270.85</td>\n",
       "    </tr>\n",
       "    <tr>\n",
       "      <th>2015-01-14</th>\n",
       "      <td>40.30</td>\n",
       "      <td>40.70</td>\n",
       "      <td>39.00</td>\n",
       "      <td>39.48</td>\n",
       "      <td>69894.17</td>\n",
       "    </tr>\n",
       "    <tr>\n",
       "      <th>2015-01-15</th>\n",
       "      <td>39.60</td>\n",
       "      <td>39.88</td>\n",
       "      <td>38.58</td>\n",
       "      <td>39.08</td>\n",
       "      <td>59575.50</td>\n",
       "    </tr>\n",
       "    <tr>\n",
       "      <th>2015-01-16</th>\n",
       "      <td>39.11</td>\n",
       "      <td>39.68</td>\n",
       "      <td>38.79</td>\n",
       "      <td>39.57</td>\n",
       "      <td>72732.30</td>\n",
       "    </tr>\n",
       "    <tr>\n",
       "      <th>2015-01-19</th>\n",
       "      <td>39.42</td>\n",
       "      <td>40.43</td>\n",
       "      <td>37.79</td>\n",
       "      <td>38.31</td>\n",
       "      <td>108004.47</td>\n",
       "    </tr>\n",
       "    <tr>\n",
       "      <th>2015-01-20</th>\n",
       "      <td>38.44</td>\n",
       "      <td>39.35</td>\n",
       "      <td>38.28</td>\n",
       "      <td>38.95</td>\n",
       "      <td>87504.57</td>\n",
       "    </tr>\n",
       "    <tr>\n",
       "      <th>2015-01-21</th>\n",
       "      <td>39.09</td>\n",
       "      <td>39.78</td>\n",
       "      <td>38.95</td>\n",
       "      <td>39.48</td>\n",
       "      <td>92543.67</td>\n",
       "    </tr>\n",
       "    <tr>\n",
       "      <th>2015-01-22</th>\n",
       "      <td>39.65</td>\n",
       "      <td>39.95</td>\n",
       "      <td>39.20</td>\n",
       "      <td>39.81</td>\n",
       "      <td>95294.65</td>\n",
       "    </tr>\n",
       "    <tr>\n",
       "      <th>2015-01-23</th>\n",
       "      <td>39.95</td>\n",
       "      <td>40.96</td>\n",
       "      <td>39.88</td>\n",
       "      <td>40.11</td>\n",
       "      <td>141481.46</td>\n",
       "    </tr>\n",
       "    <tr>\n",
       "      <th>2015-01-26</th>\n",
       "      <td>40.30</td>\n",
       "      <td>40.80</td>\n",
       "      <td>39.56</td>\n",
       "      <td>40.10</td>\n",
       "      <td>95294.17</td>\n",
       "    </tr>\n",
       "    <tr>\n",
       "      <th>2015-01-27</th>\n",
       "      <td>40.10</td>\n",
       "      <td>40.40</td>\n",
       "      <td>39.60</td>\n",
       "      <td>40.00</td>\n",
       "      <td>106373.39</td>\n",
       "    </tr>\n",
       "    <tr>\n",
       "      <th>2015-01-28</th>\n",
       "      <td>40.21</td>\n",
       "      <td>40.90</td>\n",
       "      <td>39.88</td>\n",
       "      <td>40.40</td>\n",
       "      <td>108933.55</td>\n",
       "    </tr>\n",
       "    <tr>\n",
       "      <th>2015-01-29</th>\n",
       "      <td>40.54</td>\n",
       "      <td>40.59</td>\n",
       "      <td>39.42</td>\n",
       "      <td>39.76</td>\n",
       "      <td>92448.37</td>\n",
       "    </tr>\n",
       "    <tr>\n",
       "      <th>2015-01-30</th>\n",
       "      <td>39.70</td>\n",
       "      <td>39.98</td>\n",
       "      <td>38.25</td>\n",
       "      <td>38.26</td>\n",
       "      <td>101893.46</td>\n",
       "    </tr>\n",
       "    <tr>\n",
       "      <th>2015-02-02</th>\n",
       "      <td>38.00</td>\n",
       "      <td>38.91</td>\n",
       "      <td>37.50</td>\n",
       "      <td>38.47</td>\n",
       "      <td>52506.15</td>\n",
       "    </tr>\n",
       "    <tr>\n",
       "      <th>2015-02-03</th>\n",
       "      <td>39.19</td>\n",
       "      <td>39.30</td>\n",
       "      <td>38.61</td>\n",
       "      <td>38.73</td>\n",
       "      <td>58742.92</td>\n",
       "    </tr>\n",
       "    <tr>\n",
       "      <th>2015-02-04</th>\n",
       "      <td>39.35</td>\n",
       "      <td>39.35</td>\n",
       "      <td>38.00</td>\n",
       "      <td>38.27</td>\n",
       "      <td>91584.83</td>\n",
       "    </tr>\n",
       "  </tbody>\n",
       "</table>\n",
       "</div>"
      ],
      "text/plain": [
       "             open   high    low  close        vol\n",
       "2015-01-08  38.93  39.20  38.38  38.51   68917.85\n",
       "2015-01-09  38.54  39.50  38.35  38.44   85150.94\n",
       "2015-01-12  38.48  40.33  38.48  39.48  113488.54\n",
       "2015-01-13  40.00  40.89  39.50  40.32  133270.85\n",
       "2015-01-14  40.30  40.70  39.00  39.48   69894.17\n",
       "2015-01-15  39.60  39.88  38.58  39.08   59575.50\n",
       "2015-01-16  39.11  39.68  38.79  39.57   72732.30\n",
       "2015-01-19  39.42  40.43  37.79  38.31  108004.47\n",
       "2015-01-20  38.44  39.35  38.28  38.95   87504.57\n",
       "2015-01-21  39.09  39.78  38.95  39.48   92543.67\n",
       "2015-01-22  39.65  39.95  39.20  39.81   95294.65\n",
       "2015-01-23  39.95  40.96  39.88  40.11  141481.46\n",
       "2015-01-26  40.30  40.80  39.56  40.10   95294.17\n",
       "2015-01-27  40.10  40.40  39.60  40.00  106373.39\n",
       "2015-01-28  40.21  40.90  39.88  40.40  108933.55\n",
       "2015-01-29  40.54  40.59  39.42  39.76   92448.37\n",
       "2015-01-30  39.70  39.98  38.25  38.26  101893.46\n",
       "2015-02-02  38.00  38.91  37.50  38.47   52506.15\n",
       "2015-02-03  39.19  39.30  38.61  38.73   58742.92\n",
       "2015-02-04  39.35  39.35  38.00  38.27   91584.83"
      ]
     },
     "execution_count": 85,
     "metadata": {},
     "output_type": "execute_result"
    }
   ],
   "source": [
    "testDF[:20]"
   ]
  },
  {
   "cell_type": "markdown",
   "metadata": {},
   "source": [
    "### | next compute daily trend/slope and cci \n",
    "#### make assumptions of initial account state  \n",
    "    1. byd 4500 shares with initial market value, no cash , no profit\n",
    "    2. starting back testing minute simulation\n",
    "    3. PO to log and save to sqlite , a pair of PO write to sqlite position table\n",
    "    4. mind that 1 package appoximately 18K rmb yuan to optimizing the tax and fee\n",
    "    5. notice the limitations only valid/available number of stock could trande\n",
    "    6. various cash/Total levels control, parameterized ,could be compare efficency afterwardsds\n",
    "        6.1 new high should cut-win ,set tracing cut win point\n",
    "        6.2 Market slump should be cut positon avoid further loss"
   ]
  },
  {
   "cell_type": "code",
   "execution_count": null,
   "metadata": {
    "collapsed": true
   },
   "outputs": [],
   "source": []
  }
 ],
 "metadata": {
  "kernelspec": {
   "display_name": "Python 2",
   "language": "python",
   "name": "python2"
  },
  "language_info": {
   "codemirror_mode": {
    "name": "ipython",
    "version": 2
   },
   "file_extension": ".py",
   "mimetype": "text/x-python",
   "name": "python",
   "nbconvert_exporter": "python",
   "pygments_lexer": "ipython2",
   "version": "2.7.11"
  }
 },
 "nbformat": 4,
 "nbformat_minor": 0
}
